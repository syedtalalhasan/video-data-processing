{
 "cells": [
  {
   "cell_type": "code",
   "execution_count": 4,
   "metadata": {},
   "outputs": [],
   "source": [
    "import numpy as np\n",
    "import cv2\n",
    "import matplotlib.pyplot as plt\n",
    "from glob import iglob\n",
    "from tqdm import tqdm\n",
    "import random\n",
    "import os\n"
   ]
  },
  {
   "cell_type": "markdown",
   "metadata": {},
   "source": [
    "## Breaking large folder to smaller sub folders for easier use in colab"
   ]
  },
  {
   "cell_type": "code",
   "execution_count": 11,
   "metadata": {},
   "outputs": [
    {
     "name": "stderr",
     "output_type": "stream",
     "text": [
      "100%|██████████| 73655/73655 [02:17<00:00, 536.31it/s]  \n"
     ]
    }
   ],
   "source": [
    "path = f'E:\\\\D drive\\\\project\\\\frames\\\\all_sport'\n",
    "folder=0\n",
    "count=0\n",
    "for i in tqdm(range(73655)):\n",
    "  if i%10000 == 0:\n",
    "    folder+=1\n",
    "    if not os.path.exists(f'{path}\\\\sports_{folder}'):\n",
    "        os.makedirs(f'{path}\\\\sports_{folder}')\n",
    "  img = cv2.imread(f'{path}\\\\frame_{i}.jpg')\n",
    "  if img is not None:\n",
    "    cv2.imwrite(f'{path}\\\\sports_{folder}\\\\frame_{count}.jpg', img)\n",
    "    os.remove(f'{path}\\\\frame_{i}.jpg')\n",
    "    count+=1\n",
    "  "
   ]
  },
  {
   "cell_type": "code",
   "execution_count": 12,
   "metadata": {},
   "outputs": [
    {
     "name": "stderr",
     "output_type": "stream",
     "text": [
      "100%|██████████| 73655/73655 [02:21<00:00, 521.84it/s]\n"
     ]
    }
   ],
   "source": [
    "path = f'E:\\\\D drive\\\\project\\\\frames\\\\all_add'\n",
    "folder=0\n",
    "count=0\n",
    "for i in tqdm(range(73655)):\n",
    "  if i%10000 == 0:\n",
    "    folder+=1\n",
    "    if not os.path.exists(f'{path}\\\\add_{folder}'):\n",
    "        os.makedirs(f'{path}\\\\add_{folder}')\n",
    "  img = cv2.imread(f'{path}\\\\frame_{i}.jpg')\n",
    "  if img is not None:\n",
    "    cv2.imwrite(f'{path}\\\\add_{folder}\\\\frame_{count}.jpg', img)\n",
    "    os.remove(f'{path}\\\\frame_{i}.jpg')\n",
    "    count+=1\n",
    "  "
   ]
  },
  {
   "cell_type": "code",
   "execution_count": null,
   "metadata": {},
   "outputs": [],
   "source": []
  }
 ],
 "metadata": {
  "kernelspec": {
   "display_name": "Python 3",
   "language": "python",
   "name": "python3"
  },
  "language_info": {
   "codemirror_mode": {
    "name": "ipython",
    "version": 3
   },
   "file_extension": ".py",
   "mimetype": "text/x-python",
   "name": "python",
   "nbconvert_exporter": "python",
   "pygments_lexer": "ipython3",
   "version": "3.10.2"
  }
 },
 "nbformat": 4,
 "nbformat_minor": 2
}
