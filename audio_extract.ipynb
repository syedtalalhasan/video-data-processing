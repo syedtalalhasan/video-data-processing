{
 "cells": [
  {
   "cell_type": "code",
   "execution_count": 45,
   "metadata": {},
   "outputs": [],
   "source": [
    "from pydub import AudioSegment\n",
    "import numpy as np\n",
    "from glob import glob\n",
    "import librosa\n",
    "import os\n",
    "from tqdm import tqdm"
   ]
  },
  {
   "cell_type": "code",
   "execution_count": 52,
   "metadata": {},
   "outputs": [
    {
     "name": "stdout",
     "output_type": "stream",
     "text": [
      "24000.0\n"
     ]
    },
    {
     "name": "stderr",
     "output_type": "stream",
     "text": [
      "100%|██████████| 2814/2814 [00:35<00:00, 78.30it/s] \n"
     ]
    },
    {
     "name": "stdout",
     "output_type": "stream",
     "text": [
      "24000.0\n"
     ]
    },
    {
     "name": "stderr",
     "output_type": "stream",
     "text": [
      "100%|██████████| 2814/2814 [00:38<00:00, 73.38it/s] \n"
     ]
    },
    {
     "name": "stdout",
     "output_type": "stream",
     "text": [
      "24000.0\n"
     ]
    },
    {
     "name": "stderr",
     "output_type": "stream",
     "text": [
      "100%|██████████| 2814/2814 [00:23<00:00, 118.12it/s]\n"
     ]
    },
    {
     "name": "stdout",
     "output_type": "stream",
     "text": [
      "24000.0\n"
     ]
    },
    {
     "name": "stderr",
     "output_type": "stream",
     "text": [
      "100%|██████████| 2814/2814 [00:23<00:00, 118.64it/s]\n"
     ]
    },
    {
     "name": "stdout",
     "output_type": "stream",
     "text": [
      "24000.0\n"
     ]
    },
    {
     "name": "stderr",
     "output_type": "stream",
     "text": [
      "100%|██████████| 2814/2814 [00:25<00:00, 110.39it/s]\n"
     ]
    }
   ],
   "source": [
    "\n",
    "for audio in glob('videos\\\\data\\\\audio\\\\*.wav'): \n",
    "    \n",
    "    sample, sr = librosa.load(audio, sr=48000)\n",
    "    sample_len = sample.shape[0]\n",
    "    nl = int(sample_len/48000)*2\n",
    "    if round(sample_len/48000) > int(sample_len/48000):\n",
    "        nl+=1\n",
    "    sample_resized = sample[:24000*nl]\n",
    "    print(sample_resized.shape[0]/nl)\n",
    "    count = 0\n",
    "    for i in tqdm(glob('E:\\\\D drive\\\\project\\\\videos\\\\data\\\\15fps_data\\\\***\\**\\*.npy')):\n",
    "        \n",
    "        loc = int(i.split('\\\\')[-1].split(\"_\")[-1][:-4])\n",
    "        path = i.split(\"\\\\frame_\")[0]\n",
    "        if not os.path.exists(f'{path}\\\\audios'):\n",
    "            os.makedirs(f'{path}\\\\audios')\n",
    "\n",
    "        mfcc = librosa.feature.mfcc(y=sample_resized[loc:loc+24000], sr=48000)\n",
    "        with open(f'{path}\\\\audios\\\\aud_{loc}.npy', 'wb') as f:\n",
    "            np.save(f, mfcc)\n",
    "\n",
    "\n",
    "        "
   ]
  },
  {
   "cell_type": "code",
   "execution_count": 53,
   "metadata": {},
   "outputs": [
    {
     "data": {
      "text/plain": [
       "(20, 47)"
      ]
     },
     "execution_count": 53,
     "metadata": {},
     "output_type": "execute_result"
    }
   ],
   "source": [
    "np.load('videos\\\\data\\\\15fps_data\\\\vid_0\\\\add\\\\audios\\\\aud_74.npy').shape"
   ]
  },
  {
   "cell_type": "code",
   "execution_count": null,
   "metadata": {},
   "outputs": [],
   "source": []
  }
 ],
 "metadata": {
  "kernelspec": {
   "display_name": "Python 3",
   "language": "python",
   "name": "python3"
  },
  "language_info": {
   "codemirror_mode": {
    "name": "ipython",
    "version": 3
   },
   "file_extension": ".py",
   "mimetype": "text/x-python",
   "name": "python",
   "nbconvert_exporter": "python",
   "pygments_lexer": "ipython3",
   "version": "3.10.2"
  }
 },
 "nbformat": 4,
 "nbformat_minor": 2
}
