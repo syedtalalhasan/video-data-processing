{
 "cells": [
  {
   "cell_type": "code",
   "execution_count": 1,
   "metadata": {},
   "outputs": [
    {
     "name": "stderr",
     "output_type": "stream",
     "text": [
      "c:\\Python310\\lib\\site-packages\\numpy\\_distributor_init.py:30: UserWarning: loaded more than 1 DLL from .libs:\n",
      "c:\\Python310\\lib\\site-packages\\numpy\\.libs\\libopenblas.EL2C6PLE4ZYW3ECEVIV3OXXGRN2NRFM2.gfortran-win_amd64.dll\n",
      "c:\\Python310\\lib\\site-packages\\numpy\\.libs\\libopenblas.FB5AE2TYXYH2IJRDKGDGQ3XBKLKTF43H.gfortran-win_amd64.dll\n",
      "  warnings.warn(\"loaded more than 1 DLL from .libs:\"\n"
     ]
    }
   ],
   "source": [
    "import numpy as np\n",
    "import cv2\n",
    "import matplotlib.pyplot as plt\n",
    "from glob import glob\n",
    "from tqdm import tqdm\n",
    "import os"
   ]
  },
  {
   "cell_type": "markdown",
   "metadata": {},
   "source": [
    "## Data Processing to combine 15 frames as one np file"
   ]
  },
  {
   "cell_type": "code",
   "execution_count": 2,
   "metadata": {},
   "outputs": [
    {
     "name": "stdout",
     "output_type": "stream",
     "text": [
      "E:\\D drive\\project\\videos\\new vids\\Screen-2022-09-12-081136.mp4\n",
      "E:\\D drive\\project\\videos\\new vids\\Screen-2022-09-12-081725.mp4\n",
      "E:\\D drive\\project\\videos\\new vids\\Screen-2022-09-12-090951.mp4\n",
      "E:\\D drive\\project\\videos\\new vids\\Screen-2022-09-12-091834.mp4\n",
      "E:\\D drive\\project\\videos\\new vids\\Screen-2022-09-12-092324.mp4\n"
     ]
    }
   ],
   "source": [
    "size = (128,128)\n",
    "path  = \"vid\"\n",
    "path_count = 0\n",
    "\n",
    "for vid in glob('E:\\\\D drive\\\\project\\\\videos\\\\new vids\\\\*.mp4'):\n",
    "    \n",
    "    print(vid)\n",
    "    newpath = f'E:\\\\D drive\\\\project\\\\videos\\\\new vids\\\\15fps_data\\\\{path}_{path_count}'\n",
    "    if not os.path.exists(newpath):\n",
    "        os.makedirs(newpath)\n",
    "    video = cv2.VideoCapture(vid)\n",
    "    success = True\n",
    "    count = 0\n",
    "    while success:\n",
    "        temp = np.empty([0,128,128,3])\n",
    "        image_new = None\n",
    "        for i in range(15):\n",
    "            success,image_new = video.read()\n",
    "            if success == False:\n",
    "                temp = np.vstack((temp,np.zeros((15-i,128,128,3))))\n",
    "                break\n",
    "            img = cv2.resize(image_new, size, interpolation= cv2.INTER_LANCZOS4)\n",
    "            img = img.reshape(1,128,128,3)\n",
    "            temp = np.vstack((temp,img))\n",
    "        \n",
    "        with open(f'{newpath}\\\\frame_{count}.npy', 'wb') as f:\n",
    "            np.save(f, temp)\n",
    "            \n",
    "        # If total frames are less than 15 append black frames to the end\n",
    "\n",
    "        \n",
    "        if success == False:\n",
    "            cv2.imwrite(f\"{newpath}\\\\frame_{count}.jpg\", np.zeros((128,128,3)))\n",
    "        else:\n",
    "            cv2.imwrite(f\"{newpath}\\\\frame_{count}.jpg\", image_new)     # save frame as JPEG file      \n",
    "        count += 1\n",
    "    path_count +=1\n",
    "    "
   ]
  },
  {
   "cell_type": "code",
   "execution_count": 21,
   "metadata": {},
   "outputs": [],
   "source": [
    "size = (128,128)\n",
    "count_sport = 28374\n",
    "count_add = 51380\n",
    "\n",
    "add_path = 'E:\\\\D drive\\\\project\\\\frames\\\\all_add'\n",
    "sport_path = 'E:\\\\D drive\\\\project\\\\frames\\\\all_sport'\n",
    "for img_path in glob('E:\\\\D drive\\\\project\\\\videos\\\\new vids\\\\**\\\\*.jpg'):\n",
    "    image = cv2.imread(img_path)\n",
    "    # image=cv2.resize(image, size, interpolation= cv2.INTER_LANCZOS4)\n",
    "    if img_path.split('\\\\')[-2][:3]==\"add\":\n",
    "        cv2.imwrite(f\"{add_path}\\\\frame_{count_add}.jpg\", image)\n",
    "        count_add+=1\n",
    "    elif img_path.split('\\\\')[-2][:3]!=\"all\":\n",
    "        cv2.imwrite(f\"{sport_path}\\\\frame_{count_sport}.jpg\", image)\n",
    "        count_sport+=1\n",
    "        "
   ]
  },
  {
   "cell_type": "code",
   "execution_count": 1,
   "metadata": {},
   "outputs": [],
   "source": [
    "images = []\n",
    "labels = []\n",
    "\n",
    "# label 0 for video and 1 for adevertisement\n",
    "\n",
    "folder_path = 'E:\\\\D drive\\\\project\\\\frames'\n",
    "for i in glob(f'{folder_path}\\\\**\\\\*.jpg'):\n",
    "    image = cv2.imread(i)\n",
    "    images.append(image)\n",
    "    if i.split(\"\\\\\")[-2] == \"all_data\":\n",
    "        labels.append(0)\n",
    "    else:\n",
    "        labels.append(1)\n",
    "        \n",
    "    \n",
    "images = np.array(images)\n",
    "labels = np.array(labels)"
   ]
  },
  {
   "cell_type": "code",
   "execution_count": null,
   "metadata": {},
   "outputs": [],
   "source": [
    "with open('E:\\\\D drive\\\\project\\\\frames\\\\train_data.npy', 'wb') as f:\n",
    "    np.save(f, images)\n",
    "\n",
    "with open('E:\\\\D drive\\\\project\\\\frames\\\\train_labels.npy', 'wb') as f:\n",
    "    np.save(f, labels)"
   ]
  },
  {
   "cell_type": "code",
   "execution_count": null,
   "metadata": {},
   "outputs": [],
   "source": []
  }
 ],
 "metadata": {
  "kernelspec": {
   "display_name": "Python 3",
   "language": "python",
   "name": "python3"
  },
  "language_info": {
   "codemirror_mode": {
    "name": "ipython",
    "version": 3
   },
   "file_extension": ".py",
   "mimetype": "text/x-python",
   "name": "python",
   "nbconvert_exporter": "python",
   "pygments_lexer": "ipython3",
   "version": "3.10.2"
  }
 },
 "nbformat": 4,
 "nbformat_minor": 2
}
